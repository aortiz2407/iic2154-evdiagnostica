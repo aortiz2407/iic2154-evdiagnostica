{
 "cells": [
  {
   "cell_type": "markdown",
   "id": "a6d135bb",
   "metadata": {},
   "source": [
    "# Tarea diagnóstica de Gitflow\n",
    "Esta es la tarea diagnóstica de Andrea Ortiz "
   ]
  },
  {
   "cell_type": "code",
   "execution_count": 1,
   "id": "89e1bd04",
   "metadata": {},
   "outputs": [],
   "source": [
    "#Import libraries\n",
    "\n",
    "#Import Regex Library\n",
    "import re\n",
    "import pandas as pd\n",
    "import json"
   ]
  },
  {
   "cell_type": "markdown",
   "id": "7ea5da4e",
   "metadata": {},
   "source": [
    "### Primera función: \n",
    "Los top 10 tweets más retweeted."
   ]
  },
  {
   "cell_type": "code",
   "execution_count": 15,
   "id": "ce820fc8",
   "metadata": {},
   "outputs": [],
   "source": [
    "def top_retweeted(dataframe):\n",
    "    data = dataframe.sort_values(by=['retweetCount'], ascending=False)\n",
    "    return data.iloc[:10]"
   ]
  },
  {
   "cell_type": "markdown",
   "id": "3842e8e9",
   "metadata": {},
   "source": [
    "### Segunda función:\n",
    "Los top 10 usuarios en función a la cantidad de tweets que emitieron."
   ]
  },
  {
   "cell_type": "code",
   "execution_count": null,
   "id": "6a0e6727",
   "metadata": {},
   "outputs": [],
   "source": [
    "def top_users(dataframe): \n",
    "    data = dataframe.groupby([\"user\"]).count().sort_values(by=['id'], ascending=False).iloc[:10]\n",
    "    return data.reindex(columns=[\"id\"])"
   ]
  },
  {
   "cell_type": "markdown",
   "id": "f0df369b",
   "metadata": {},
   "source": [
    "### Tercera función:\n",
    "Los top 10 días donde hay más tweets."
   ]
  },
  {
   "cell_type": "code",
   "execution_count": null,
   "id": "f393ea3a",
   "metadata": {},
   "outputs": [],
   "source": [
    "def tweeted_days(dataframe):\n",
    "    day_pattern = re.compile(r\"\\d+-\\d+-\\d+\")\n",
    "    data = dataframe\n",
    "    data[\"date\"] = data[\"date\"].dt.date\n",
    "    data = dataframe.groupby([\"date\"]).count().sort_values(by=['id'], ascending=False).iloc[:10]\n",
    "    return data.reindex(columns=[\"id\"])"
   ]
  },
  {
   "cell_type": "code",
   "execution_count": null,
   "id": "35f3baaf",
   "metadata": {},
   "outputs": [],
   "source": [
    "### Cuarta función:\n",
    "Top 10 hashtags más usados."
   ]
  },
  {
   "cell_type": "code",
   "execution_count": null,
   "id": "8e2cc99f",
   "metadata": {},
   "outputs": [],
   "source": [
    "def top_hashtags(dataframe):\n",
    "    #Utilización del código de z_ai (https://towardsdatascience.com/visualization-of-information-from-raw-twitter-data-part-1-99181ad19c)\n",
    "    hashtag_list = []\n",
    "    pat_hashtag = re.compile(r\"#[a-zA-Z]+\")\n",
    "    matches = list(dataframe['content'].apply(pat_hashtag.findall))\n",
    "    hashtag_dict = {}\n",
    "    for match in matches:\n",
    "        for onematch in match:\n",
    "            if onematch not in hashtag_dict.keys():\n",
    "                hashtag_dict[onematch] = 1\n",
    "            else:\n",
    "                hashtag_dict[onematch] = hashtag_dict[onematch]+1\n",
    "    hashtag_ordered_list =sorted(hashtag_dict.items(), key=lambda x:x[1])\n",
    "    #devuelvo la lista para tenerla descendente\n",
    "    hashtag_ordered_list = hashtag_ordered_list[::-1]\n",
    "    return hashtag_ordered_list[0:20]"
   ]
  },
  {
   "cell_type": "code",
   "execution_count": 3,
   "id": "e3ad8c88",
   "metadata": {
    "scrolled": true
   },
   "outputs": [
    {
     "name": "stdout",
     "output_type": "stream",
     "text": [
      "Bienvenido al contador de tweets\n",
      "\n",
      "finalizado\n",
      "Primera funcion\n",
      "\n",
      "fin\n"
     ]
    }
   ],
   "source": [
    "if __name__ == \"__main__\":\n",
    "    print(\"################  Bienvenido al contador de tweets  ##############\\n\") \n",
    "    raw_tweets = pd.read_json(r'farmers-protest-tweets.json',lines=True)\n",
    "    print(\"Finaliza de leer\")\n",
    "    \n",
    "    print(\"Primera funcion --- \\n\")\n",
    "    data = top_retweeted(raw_tweets)\n",
    "    data"
   ]
  },
  {
   "cell_type": "code",
   "execution_count": null,
   "id": "1daa37a6",
   "metadata": {},
   "outputs": [],
   "source": [
    "print(\"Segunda funcion --- \\n\")\n",
    "data_2= raw_tweets\n",
    "data_2[\"user\"] = data_2[\"user\"].apply(lambda x: x.get(\"username\"))\n",
    "data_2 = top_users(data_2)\n",
    "data_2"
   ]
  },
  {
   "cell_type": "code",
   "execution_count": null,
   "id": "a5d18054",
   "metadata": {},
   "outputs": [],
   "source": [
    "print(\"Tercera funcion --- \\n\")\n",
    "data_3 = tweeted_days(raw_tweets)\n",
    "data_3"
   ]
  },
  {
   "cell_type": "code",
   "execution_count": null,
   "id": "b2a14413",
   "metadata": {},
   "outputs": [],
   "source": [
    "print(\"Cuarta funcion --- \\n\")\n",
    "hashtag_list_ready = top_hashtags(raw_tweets)\n",
    "for hashtag in hashtag_list_ready:\n",
    "    print(hashtag[0], \"--->\", hashtag[1])"
   ]
  }
 ],
 "metadata": {
  "kernelspec": {
   "display_name": "Python 3 (ipykernel)",
   "language": "python",
   "name": "python3"
  },
  "language_info": {
   "codemirror_mode": {
    "name": "ipython",
    "version": 3
   },
   "file_extension": ".py",
   "mimetype": "text/x-python",
   "name": "python",
   "nbconvert_exporter": "python",
   "pygments_lexer": "ipython3",
   "version": "3.7.9"
  }
 },
 "nbformat": 4,
 "nbformat_minor": 5
}
