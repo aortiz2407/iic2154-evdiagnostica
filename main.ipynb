{
 "cells": [
  {
   "cell_type": "markdown",
   "id": "a6d135bb",
   "metadata": {},
   "source": [
    "# Tarea diagnóstica de Gitflow\n",
    "Esta es la tarea diagnóstica de Andrea Ortiz "
   ]
  },
  {
   "cell_type": "code",
   "execution_count": 1,
   "id": "89e1bd04",
   "metadata": {},
   "outputs": [],
   "source": [
    "#Import libraries\n",
    "\n",
    "#Import Regex Library\n",
    "import re\n",
    "import pandas as pd\n",
    "import json"
   ]
  },
  {
   "cell_type": "markdown",
   "id": "7ea5da4e",
   "metadata": {},
   "source": [
    "### Primera función: \n",
    "Los top 10 tweets más retweeted."
   ]
  },
  {
   "cell_type": "code",
   "execution_count": 15,
   "id": "ce820fc8",
   "metadata": {},
   "outputs": [],
   "source": [
    "def top_retweeted(dataframe):\n",
    "    data = dataframe.sort_values(by=['retweetCount'], ascending=False)\n",
    "    return data.iloc[:10]"
   ]
  },
  {
   "cell_type": "code",
   "execution_count": 3,
   "id": "e3ad8c88",
   "metadata": {
    "scrolled": true
   },
   "outputs": [
    {
     "name": "stdout",
     "output_type": "stream",
     "text": [
      "Bienvenido al contador de tweets\n",
      "\n",
      "finalizado\n",
      "Primera funcion\n",
      "\n",
      "fin\n"
     ]
    }
   ],
   "source": [
    "if __name__ == \"__main__\":\n",
    "    print(\"################  Bienvenido al contador de tweets  ##############\\n\") \n",
    "    raw_tweets = pd.read_json(r'farmers-protest-tweets.json',lines=True)\n",
    "    print(\"Finaliza de leer\")\n",
    "    \n",
    "    print(\"Primera funcion --- \\n\")\n",
    "    data = top_retweeted(raw_tweets)\n",
    "    data"
   ]
  }
 ],
 "metadata": {
  "kernelspec": {
   "display_name": "Python 3 (ipykernel)",
   "language": "python",
   "name": "python3"
  },
  "language_info": {
   "codemirror_mode": {
    "name": "ipython",
    "version": 3
   },
   "file_extension": ".py",
   "mimetype": "text/x-python",
   "name": "python",
   "nbconvert_exporter": "python",
   "pygments_lexer": "ipython3",
   "version": "3.7.9"
  }
 },
 "nbformat": 4,
 "nbformat_minor": 5
}
